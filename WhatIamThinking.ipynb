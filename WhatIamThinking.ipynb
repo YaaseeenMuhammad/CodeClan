{
  "nbformat": 4,
  "nbformat_minor": 0,
  "metadata": {
    "colab": {
      "provenance": []
    },
    "kernelspec": {
      "name": "python3",
      "display_name": "Python 3"
    },
    "language_info": {
      "name": "python"
    }
  },
  "cells": [
    {
      "cell_type": "code",
      "execution_count": 9,
      "metadata": {
        "colab": {
          "base_uri": "https://localhost:8080/"
        },
        "id": "bbcWOEJK9Un_",
        "outputId": "1fc16bfb-2beb-4f87-890a-e3264be15c68"
      },
      "outputs": [
        {
          "output_type": "stream",
          "name": "stdout",
          "text": [
            "Guess What I am Thinking!\n",
            "I'm thinking of a number between 1 and 10. Can you guess it?\n",
            "Enter your guess: 9\n",
            "Too high! Try again.\n",
            "Enter your guess: 8\n",
            "Too high! Try again.\n",
            "Enter your guess: 7\n",
            "Too high! Try again.\n",
            "Enter your guess: 4\n",
            "Congratulations! You've guessed the number 4 in 4 attempts.\n"
          ]
        }
      ],
      "source": [
        "import random\n",
        "def WhatIamThinking():\n",
        "    x = random.randint(1, 10)\n",
        "    print(\"Guess What I am Thinking!\")\n",
        "    print(\"I'm thinking of a number between 1 and 10. Can you guess it?\")\n",
        "    a= 0\n",
        "    b= False\n",
        "    while not b:\n",
        "        try:\n",
        "            c = int(input(\"Enter your guess: \"))\n",
        "            a += 1\n",
        "            if c < x:\n",
        "                print(\"Too low! Try again.\")\n",
        "            elif c > x:\n",
        "                print(\"Too high! Try again.\")\n",
        "            else:\n",
        "                print(\"Congratulations! You've guessed the number\", x, \"in\" ,a, \"attempts.\")\n",
        "                b = True\n",
        "        except ValueError:\n",
        "            print(\"Please enter a valid number.\")\n",
        "WhatIamThinking()"
      ]
    }
  ]
}
{
  "nbformat": 4,
  "nbformat_minor": 0,
  "metadata": {
    "colab": {
      "provenance": []
    },
    "kernelspec": {
      "name": "python3",
      "display_name": "Python 3"
    },
    "language_info": {
      "name": "python"
    }
  },
  "cells": [
    {
      "cell_type": "code",
      "source": [
        "from datetime import date\n",
        "x= int(input(\"Enter your birth year: \"))\n",
        "y= int(input(\"Enter your birth month (1-12): \"))\n",
        "z= int(input(\"Enter your birth day (1-31): \"))\n",
        "current_date = datetime.now()\n",
        "birth_date = datetime(x, y, z)\n",
        "age = current_date - birth_date\n",
        "a= age.days // 365\n",
        "b=(age.days % 365) // 30\n",
        "c= (age.days % 365) % 30\n",
        "print(\"You are\", a, \"years\", b,\"months and\", c, \"days old.\")"
      ],
      "metadata": {
        "colab": {
          "base_uri": "https://localhost:8080/"
        },
        "id": "x7dR1Ca44pHc",
        "outputId": "92cc4c23-5d6c-4990-ef25-13e9ebcf2bf9"
      },
      "execution_count": 12,
      "outputs": [
        {
          "output_type": "stream",
          "name": "stdout",
          "text": [
            "Enter your birth year: 1995\n",
            "Enter your birth month (1-12): 12\n",
            "Enter your birth day (1-31): 31\n",
            "You are 29 years 2 months and 11 days old.\n"
          ]
        }
      ]
    }
  ]
}
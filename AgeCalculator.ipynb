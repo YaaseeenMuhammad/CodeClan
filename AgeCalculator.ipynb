{
  "nbformat": 4,
  "nbformat_minor": 0,
  "metadata": {
    "colab": {
      "provenance": []
    },
    "kernelspec": {
      "name": "python3",
      "display_name": "Python 3"
    },
    "language_info": {
      "name": "python"
    }
  },
  "cells": [
    {
      "cell_type": "code",
      "source": [
        "from datetime import datetime\n",
        "x= int(input(\"Enter your birth year: \"))\n",
        "y= int(input(\"Enter your birth month (1-12): \"))\n",
        "z= int(input(\"Enter your birth day (1-31): \"))\n",
        "CurrentDate = datetime.now()\n",
        "BirthDate = datetime(x, y, z)\n",
        "Age = CurrentDate - BirthDate\n",
        "a= Age.days // 365\n",
        "b=(Age.days % 365) // 30\n",
        "c= (Age.days % 365) % 30\n",
        "print(\"You are\", a, \"years\", b,\"months and\", c, \"days old.\")"
      ],
      "metadata": {
        "colab": {
          "base_uri": "https://localhost:8080/"
        },
        "id": "evr1ldN--Eut",
        "outputId": "7524bc2e-fe47-4592-a49e-0cdccb1b0185"
      },
      "execution_count": 18,
      "outputs": [
        {
          "output_type": "stream",
          "name": "stdout",
          "text": [
            "Enter your birth year: 1995\n",
            "Enter your birth month (1-12): 2\n",
            "Enter your birth day (1-31): 8\n",
            "You are 30 years 1 months and 2 days old.\n"
          ]
        }
      ]
    }
  ]
}
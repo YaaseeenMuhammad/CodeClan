{
  "nbformat": 4,
  "nbformat_minor": 0,
  "metadata": {
    "colab": {
      "provenance": []
    },
    "kernelspec": {
      "name": "python3",
      "display_name": "Python 3"
    },
    "language_info": {
      "name": "python"
    }
  },
  "cells": [
    {
      "cell_type": "code",
      "execution_count": 3,
      "metadata": {
        "colab": {
          "base_uri": "https://localhost:8080/"
        },
        "id": "HtaUbXBP-eUZ",
        "outputId": "a8805d20-cb3a-492d-e9ed-e5f567c98b20"
      },
      "outputs": [
        {
          "output_type": "stream",
          "name": "stdout",
          "text": [
            "Welcome to the Emoji Mood Checker!\n",
            "How are you feeling? happy\n",
            "😊 Stay Happy\n"
          ]
        }
      ],
      "source": [
        "import re\n",
        "def MoodChecker():\n",
        "    print(\"Welcome to the Emoji Mood Checker!\")\n",
        "    MoodInput = input(\"How are you feeling? \").lower()\n",
        "    MoodEmoji = {\n",
        "        \"happy\": (\"😊\", \"Stay Happy\"),\n",
        "        \"sad\": (\"😢\", \"Sometimes you need the rain To know you miss the sun\"),\n",
        "        \"angry\": (\"😡\", \"You gotta let 'em go\"),\n",
        "        \"excited\": (\"😆\", \"That's awesome!\"),\n",
        "        \"surprised\": (\"😲\", \"Wow, that's unexpected!\"),\n",
        "        \"neutral\": (\"😐\", \"Sometimes it’s good to be neutral.\"),\n",
        "        \"bored\": (\"😒\", \"You could try to wrestle with the mirror\"),\n",
        "        \"love\": (\"😍\", \"Sometimes you need the pain To know it isn't love\"),\n",
        "        \"tired\": (\"😴\", \"You've been fighting it off just like a fever\"),\n",
        "        \"confused\": (\"😕\", \"But there's no use holding it back\"),\n",
        "    }\n",
        "    MoodMatch = None\n",
        "    for mood in MoodEmoji:\n",
        "        if re.search(r'\\b' + mood + r'\\b', MoodInput):\n",
        "            MoodMatch = mood\n",
        "            break\n",
        "    if MoodMatch:\n",
        "        emoji, message = MoodEmoji[MoodMatch]\n",
        "        print(f\"{emoji} {message}\")\n",
        "    else:\n",
        "        print(\"Sorry, I couldn't detect your mood. Try again!\")\n",
        "MoodChecker()"
      ]
    },
    {
      "cell_type": "markdown",
      "source": [
        "# Using While Loop"
      ],
      "metadata": {
        "id": "Gnl260cqNUmx"
      }
    },
    {
      "cell_type": "code",
      "source": [
        "import re\n",
        "def MoodChecker():\n",
        "    print(\"Welcome to the Emoji Mood Checker!\")\n",
        "\n",
        "    while True:\n",
        "        MoodInput = input(\"How are you feeling? \").lower()\n",
        "        MoodEmoji = {\n",
        "            \"happy\": (\"😊\", \"Stay positive!\"),\n",
        "            \"sad\": (\"😢\", \"It's okay to feel sad sometimes.\"),\n",
        "            \"angry\": (\"😡\", \"Take a deep breath.\"),\n",
        "            \"excited\": (\"😆\", \"That's awesome!\"),\n",
        "            \"surprised\": (\"😲\", \"Wow, that's unexpected!\"),\n",
        "            \"neutral\": (\"😐\", \"Sometimes it’s good to be neutral.\"),\n",
        "            \"bored\": (\"😒\", \"Maybe try something new to shake it up.\"),\n",
        "            \"love\": (\"😍\", \"Love is in the air!\"),\n",
        "            \"tired\": (\"😴\", \"Rest is important!\"),\n",
        "            \"confused\": (\"😕\", \"Take your time, it's okay to be confused.\"),\n",
        "        }\n",
        "        MoodMatch = None\n",
        "        for mood in MoodEmoji:\n",
        "            if re.search(r'\\b' + mood + r'\\b', MoodInput):\n",
        "                MoodMatch = mood\n",
        "                break\n",
        "        if MoodMatch:\n",
        "            emoji, message = MoodEmoji[MoodMatch]\n",
        "            print(f\"{emoji} {message}\")\n",
        "        else:\n",
        "            print(\"Sorry, I couldn't detect your mood. Try again!\")\n",
        "\n",
        "        continue_check = input(\"Would you like to check your mood again? (yes/no): \").lower()\n",
        "        if continue_check != 'yes':\n",
        "            print(\"Goodbye! Stay happy!\")\n",
        "            break\n",
        "MoodChecker()\n"
      ],
      "metadata": {
        "colab": {
          "base_uri": "https://localhost:8080/"
        },
        "id": "BzxqGShu-tpN",
        "outputId": "dc3ff32c-178a-4bd1-b05f-60e7517aeb81"
      },
      "execution_count": 6,
      "outputs": [
        {
          "output_type": "stream",
          "name": "stdout",
          "text": [
            "Welcome to the Emoji Mood Checker!\n",
            "How are you feeling? happy\n",
            "😊 Stay positive!\n",
            "Would you like to check your mood again? (yes/no): yes\n",
            "How are you feeling? sad\n",
            "😢 It's okay to feel sad sometimes.\n",
            "Would you like to check your mood again? (yes/no): no\n",
            "Goodbye! Stay happy!\n"
          ]
        }
      ]
    }
  ]
}
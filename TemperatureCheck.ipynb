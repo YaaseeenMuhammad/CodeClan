{
  "nbformat": 4,
  "nbformat_minor": 0,
  "metadata": {
    "colab": {
      "provenance": []
    },
    "kernelspec": {
      "name": "python3",
      "display_name": "Python 3"
    },
    "language_info": {
      "name": "python"
    }
  },
  "cells": [
    {
      "cell_type": "code",
      "source": [
        "def ConvertTemperature():\n",
        "    temp = float(input(\"Enter the temperature: \"))\n",
        "    print(\"Choose the unit of temperature:\")\n",
        "    print(\"Option 1: Celsius\")\n",
        "    print(\"Option 2: Fahrenheit\")\n",
        "    UnitChoice = input(\"Enter the option number (1 or 2): \").strip()\n",
        "    if UnitChoice == \"1\":\n",
        "        ConvertedTemp = (temp * 9/5) + 32\n",
        "        print(f\"{temp} Celsius is equal to {ConvertedTemp} Fahrenheit.\")\n",
        "    elif UnitChoice == \"2\":\n",
        "        ConvertedTemp = (temp - 32) * 5/9\n",
        "        print(f\"{temp} Fahrenheit is equal to {ConvertedTemp} Celsius.\")\n",
        "    else:\n",
        "        print(\"Invalid option! Please choose either '1' for Celsius or '2' for Fahrenheit.\")\n",
        "ConvertTemperature()"
      ],
      "metadata": {
        "colab": {
          "base_uri": "https://localhost:8080/"
        },
        "id": "9Adpp_iHcgT9",
        "outputId": "f37aa83e-953c-434d-c217-ccbbb464ac31"
      },
      "execution_count": null,
      "outputs": [
        {
          "output_type": "stream",
          "name": "stdout",
          "text": [
            "Enter the temperature: 100\n",
            "Choose the unit of temperature:\n",
            "Option 1: Celsius\n",
            "Option 2: Fahrenheit\n",
            "Enter the option number (1 or 2): 2\n",
            "100.0 Fahrenheit is equal to 37.77777777777778 Celsius.\n"
          ]
        }
      ]
    }
  ]
}
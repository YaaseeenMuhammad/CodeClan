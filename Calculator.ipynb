{
  "nbformat": 4,
  "nbformat_minor": 0,
  "metadata": {
    "colab": {
      "provenance": []
    },
    "kernelspec": {
      "name": "python3",
      "display_name": "Python 3"
    },
    "language_info": {
      "name": "python"
    }
  },
  "cells": [
    {
      "cell_type": "markdown",
      "source": [
        "# Using While loop and if-elif-else statement"
      ],
      "metadata": {
        "id": "Wp8bSm04TIMT"
      }
    },
    {
      "cell_type": "code",
      "execution_count": 25,
      "metadata": {
        "colab": {
          "base_uri": "https://localhost:8080/"
        },
        "id": "SPG1t3LtSMGi",
        "outputId": "ac8a2328-e7a0-4206-f7ba-784957300d3a"
      },
      "outputs": [
        {
          "output_type": "stream",
          "name": "stdout",
          "text": [
            "Select operation:\n",
            "1. Addition\n",
            "2. Subtraction\n",
            "3. Multiplication\n",
            "4. Division\n",
            "Enter choice (1/2/3/4): 4\n",
            "Enter first number: 2\n",
            "Enter second number: 2\n",
            "2.0 / 2.0 = 1.0\n",
            "Select operation:\n",
            "1. Addition\n",
            "2. Subtraction\n",
            "3. Multiplication\n",
            "4. Division\n",
            "Enter choice (1/2/3/4): 6\n",
            "Exiting the calculator.\n"
          ]
        }
      ],
      "source": [
        "def calculator():\n",
        "    while True:\n",
        "        print(\"Select operation:\")\n",
        "        print(\"1. Addition\")\n",
        "        print(\"2. Subtraction\")\n",
        "        print(\"3. Multiplication\")\n",
        "        print(\"4. Division\")\n",
        "        choice = input(\"Enter choice (1/2/3/4): \")\n",
        "        if choice not in ['1', '2', '3', '4']:\n",
        "            print(\"Exiting the calculator.\")\n",
        "            break\n",
        "        num1 = float(input(\"Enter first number: \"))\n",
        "        num2 = float(input(\"Enter second number: \"))\n",
        "        if choice == '1':\n",
        "            print(f\"{num1} + {num2} = {num1 + num2}\")\n",
        "        elif choice == '2':\n",
        "            print(f\"{num1} - {num2} = {num1 - num2}\")\n",
        "        elif choice == '3':\n",
        "            print(f\"{num1} * {num2} = {num1 * num2}\")\n",
        "        elif choice == '4':\n",
        "            if num2 != 0:\n",
        "                print(f\"{num1} / {num2} = {num1 / num2}\")\n",
        "            else:\n",
        "                print(\"Error! Division by zero.\")\n",
        "calculator()"
      ]
    },
    {
      "cell_type": "markdown",
      "source": [
        "# Using Lambda function"
      ],
      "metadata": {
        "id": "x4Gs4rAEZIbV"
      }
    },
    {
      "cell_type": "code",
      "source": [
        "def calculator():\n",
        "  while True:\n",
        "    print(\"Select operation:\")\n",
        "    print(\"1. Addition\")\n",
        "    print(\"2. Subtraction\")\n",
        "    print(\"3. Multiplication\")\n",
        "    print(\"4. Division\")\n",
        "\n",
        "    choice = input(\"Enter choice (1/2/3/4): \")\n",
        "    if choice not in ['1', '2', '3', '4']:\n",
        "            print(\"Exiting the calculator.\")\n",
        "            break\n",
        "    num1 = float(input(\"Enter first number: \"))\n",
        "    num2 = float(input(\"Enter second number: \"))\n",
        "\n",
        "    operations = {\n",
        "        '1': lambda x, y: x + y,\n",
        "        '2': lambda x, y: x - y,\n",
        "        '3': lambda x, y: x * y,\n",
        "        '4': lambda x, y: x / y if y != 0 else \"Error! Division by zero.\"\n",
        "    }\n",
        "\n",
        "    if choice in operations:\n",
        "        result = operations[choice](num1, num2)\n",
        "        print(f\"Result: {result}\")\n",
        "    else:\n",
        "        print(\"Invalid choice\")\n",
        "\n",
        "calculator()"
      ],
      "metadata": {
        "colab": {
          "base_uri": "https://localhost:8080/"
        },
        "id": "fVpAnX9OTXmK",
        "outputId": "01d418f5-2b8e-4748-cd96-5997f7b2dab8"
      },
      "execution_count": 31,
      "outputs": [
        {
          "output_type": "stream",
          "name": "stdout",
          "text": [
            "Select operation:\n",
            "1. Addition\n",
            "2. Subtraction\n",
            "3. Multiplication\n",
            "4. Division\n",
            "Enter choice (1/2/3/4): 4\n",
            "Enter first number: 2\n",
            "Enter second number: 3\n",
            "Result: 0.6666666666666666\n",
            "Select operation:\n",
            "1. Addition\n",
            "2. Subtraction\n",
            "3. Multiplication\n",
            "4. Division\n",
            "Enter choice (1/2/3/4): 6\n",
            "Exiting the calculator.\n"
          ]
        }
      ]
    }
  ]
}